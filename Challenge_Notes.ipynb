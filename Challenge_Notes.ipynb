{
 "cells": [
  {
   "cell_type": "markdown",
   "id": "6af36aa2",
   "metadata": {},
   "source": [
    "#### print( )\n",
    "<font size = 2>\n",
    "In Python 2, the default print is a simple IO method that doesn't give many options to play around with.\n",
    "\n",
    "The following two examples will summarize it.\n",
    "    \n",
    "Exampl 1:\n",
    "    \n",
    "    var, var1, var2 = 1,2,3\n",
    "    print var\n",
    "    print var1, var2 \n",
    "Prints two lines and, in the second line, **var1** and **var2** are separated by a single space.\n",
    "    \n",
    "Exampl 2:\n",
    "    \n",
    "    print(*values, sep=' ', end='\\n', file=sys.stdout)\n",
    "    print(value1, value2, value3, sep=' ', end='\\n', file=sys.stdout)\n",
    "    \n",
    "Here, values is an array and *values means array is unpacked, you can add values separated by a comma too. The arguments sep, end, and file are optional, but they can prove helpful in formatting output without taking help from a string module.\n",
    "\n",
    "The argument definitions are below:\n",
    "    \n",
    "**sep** defines the delimiter between the values.\n",
    "    \n",
    "**end** defines what to print after the values.\n",
    "    \n",
    "**file** defines the output stream."
   ]
  },
  {
   "cell_type": "code",
   "execution_count": 9,
   "id": "1a43cc14",
   "metadata": {},
   "outputs": [
    {
     "name": "stdout",
     "output_type": "stream",
     "text": [
      "15\n",
      "123456789101112131415"
     ]
    }
   ],
   "source": [
    "# with end = ''\n",
    "n = int(input())\n",
    "for i in range(1,n+1):\n",
    "    print(i,end='')"
   ]
  },
  {
   "cell_type": "code",
   "execution_count": 10,
   "id": "f604d1be",
   "metadata": {},
   "outputs": [
    {
     "name": "stdout",
     "output_type": "stream",
     "text": [
      "12\n",
      "1\n",
      "2\n",
      "3\n",
      "4\n",
      "5\n",
      "6\n",
      "7\n",
      "8\n",
      "9\n",
      "10\n",
      "11\n",
      "12\n"
     ]
    }
   ],
   "source": [
    "# without end = ''\n",
    "n = int(input())\n",
    "for i in range(1,n+1):\n",
    "    print(i)"
   ]
  },
  {
   "cell_type": "markdown",
   "id": "46005d64",
   "metadata": {},
   "source": [
    "#### default function\n",
    "<font size = 2>\n",
    "In a defined function,if we can set a default value for some input, e.g. in this case:\n",
    "    \n",
    "    stram='even'\n",
    "    \n",
    "so if input **stream** is not clearly assigned when the function is called **stream** will defautly be **even**, unless **stream** is cleared assigned as **odd**."
   ]
  },
  {
   "cell_type": "code",
   "execution_count": 15,
   "id": "dc1749be",
   "metadata": {},
   "outputs": [
    {
     "name": "stdout",
     "output_type": "stream",
     "text": [
      "how many queries do you want? give a number: 2\n",
      "give a query in form of: odd/even digiteven 4\n",
      "0\n",
      "2\n",
      "4\n",
      "6\n",
      "give a query in form of: odd/even digitodd 9\n",
      "1\n",
      "3\n",
      "5\n",
      "7\n",
      "9\n",
      "11\n",
      "13\n",
      "15\n",
      "17\n"
     ]
    }
   ],
   "source": [
    "def print_from_stream(n, stream='even'):    \n",
    "    if stream == 'even':\n",
    "        EvenStream(n)\n",
    "    elif stream == 'odd':\n",
    "        OddStream(n)\n",
    "    \n",
    "def OddStream(num):\n",
    "    for i in range(num):\n",
    "        print(2*i+1)\n",
    "        \n",
    "def EvenStream(num):    \n",
    "    for i in range(num):\n",
    "        print(2*i)\n",
    "\n",
    "q = int(input('how many queries do you want? give a number: '))\n",
    "for i in range(q):\n",
    "    query = input('give a query in form of: odd/even digit')\n",
    "    mod, n = query.split()\n",
    "    n = int(n)\n",
    "    if mod == 'even':\n",
    "        print_from_stream(n)\n",
    "    elif mod == 'odd':\n",
    "        print_from_stream(n,'odd')"
   ]
  },
  {
   "cell_type": "markdown",
   "id": "ea5d8687",
   "metadata": {},
   "source": [
    "#### list comprehensions\n",
    "<font size=2>\n",
    "This will step over every element in a sequence, successively setting the loop-variable equal to every element one at a time. It will then build up a list by evaluating the expression-involving-loop-variable for each one. This eliminates the need to use lambda forms and generally produces a much more readable code than using map() and a more compact code than using a for loop.\n",
    "    \n",
    "    >> ListOfNumbers = [ x for x in range(10) ] # List of integers from 0 to 9\n",
    "    >> ListOfNumbers\n",
    "    [0, 1, 2, 3, 4, 5, 6, 7, 8, 9]\n",
    "    \n",
    "For example, if you want to generate all combinations of lists [1,2,3] and [4,5,6], write:\n",
    "    \n",
    "    >>> print([[x, y] for x in [1, 2, 3] for y in [4, 5, 6]])\n",
    "    [[1, 4], [1, 5], [1, 6], [2, 4], [2, 5], [2, 6], [3, 4], [3, 5], [3, 6]]\n",
    "    \n",
    "This is equivalent to:\n",
    "    \n",
    "    >>> results = []\n",
    "    >>> for x in [1, 2, 3]:\n",
    "    ...     for y in [4, 5, 6]:\n",
    "    ...         results.append([x, y])\n",
    "    ... \n",
    "    >>> print(results)\n",
    "    [[1, 4], [1, 5], [1, 6], [2, 4], [2, 5], [2, 6], [3, 4], [3, 5], [3, 6]]\n",
    "    \n",
    "The final form of list comprehension involves creating a list and filtering it similar to using the filter() method. The filtering form of list comprehension takes the following form:\n",
    "    \n",
    "    >> ListOfThreeMultiples = [x for x in range(10) if x % 3 == 0] # Multiples of 3 below 10\n",
    "    >> ListOfThreeMultiples\n",
    "    [0, 3, 6, 9]"
   ]
  },
  {
   "cell_type": "code",
   "execution_count": 1,
   "id": "a5482277",
   "metadata": {},
   "outputs": [
    {
     "name": "stdout",
     "output_type": "stream",
     "text": [
      "[[0, 0, 0], [0, 0, 1], [0, 0, 3], [0, 0, 4], [0, 1, 0], [0, 1, 2], [0, 1, 3], [0, 1, 4], [0, 2, 1], [0, 2, 2], [0, 2, 3], [0, 2, 4], [0, 3, 0], [0, 3, 1], [0, 3, 2], [0, 3, 3], [0, 3, 4], [1, 0, 0], [1, 0, 2], [1, 0, 3], [1, 0, 4], [1, 1, 1], [1, 1, 2], [1, 1, 3], [1, 1, 4], [1, 2, 0], [1, 2, 1], [1, 2, 2], [1, 2, 3], [1, 2, 4], [1, 3, 0], [1, 3, 1], [1, 3, 2], [1, 3, 3], [1, 3, 4], [2, 0, 1], [2, 0, 2], [2, 0, 3], [2, 0, 4], [2, 1, 0], [2, 1, 1], [2, 1, 2], [2, 1, 3], [2, 1, 4], [2, 2, 0], [2, 2, 1], [2, 2, 2], [2, 2, 3], [2, 2, 4], [2, 3, 0], [2, 3, 1], [2, 3, 2], [2, 3, 3], [2, 3, 4]]\n"
     ]
    }
   ],
   "source": [
    "x = 2\n",
    "y = 3\n",
    "z = 4\n",
    "n = 2\n",
    "out = [[i,j,k] for i in range(x+1) for j in range(y+1) for k in range(z+1) if (i+j+k)!=n]\n",
    "print(out)"
   ]
  },
  {
   "cell_type": "markdown",
   "id": "86c3aba4",
   "metadata": {},
   "source": [
    "#### set vs list\n",
    "<font size=2>\n",
    "\n",
    "Check this link to know what is **map** object:\n",
    "    \n",
    "    https://www.geeksforgeeks.org/python-map-function/\n",
    "    \n",
    "**set** can remove the repetitive values."
   ]
  },
  {
   "cell_type": "code",
   "execution_count": 7,
   "id": "d4dc5c7f",
   "metadata": {},
   "outputs": [
    {
     "name": "stdout",
     "output_type": "stream",
     "text": [
      "1 6 2 5 4 2 2 2 2 3 6 5\n",
      "arr as map:  <map object at 0x7f6d903a58b0>\n",
      "arr as set:  {1, 2, 3, 4, 5, 6}\n",
      "arr as sorted list:  [1, 2, 3, 4, 5, 6]\n",
      "5\n"
     ]
    }
   ],
   "source": [
    "arr = map(int, input().split())\n",
    "print('arr as map: ', arr)\n",
    "arr = set(arr)\n",
    "print('arr as set: ',arr)\n",
    "arr = list(arr)\n",
    "arr.sort()\n",
    "print('arr as sorted list: ', arr)\n",
    "# to find the second smallest value in a list\n",
    "# even if there are repetitive values\n",
    "print(arr[-2])"
   ]
  },
  {
   "cell_type": "markdown",
   "id": "5c1afee5",
   "metadata": {},
   "source": [
    "#### .split( )\n",
    "<font size=2>\n",
    "    \n",
    "1. separately store\n",
    "\n",
    "If input has multiple blank and use **.split()** to split it, the elements can be indiviaually stored in variables;\n",
    "    \n",
    "2. pack in a list\n",
    "\n",
    "or directly in a list with splitted elements which are of type of 'String'.\n",
    "    \n",
    "3. starred assignment\n",
    "\n",
    "or use '*' before a variable to store multiple returned results.\n",
    "    \n",
    "    attention: starred assignment cannot be applied alone(see case below)"
   ]
  },
  {
   "cell_type": "code",
   "execution_count": 20,
   "id": "f4d96cca",
   "metadata": {},
   "outputs": [
    {
     "name": "stdout",
     "output_type": "stream",
     "text": [
      "give a string with blanks: 1 2 5\n",
      "1 2 5\n",
      "['1', '2', '5']\n",
      "1 ['2', '5']\n"
     ]
    }
   ],
   "source": [
    "# input: 1 2 5\n",
    "inp = input('give a string with blanks: ')\n",
    "# 1. separately store\n",
    "inp1, inp2, inp3 = inp.split()\n",
    "print(inp1, inp2, inp3)\n",
    "# 2. pack in a list\n",
    "inp_lst = inp.split()\n",
    "print(inp_lst)\n",
    "# 3. starred assignment\n",
    "inp_first, *inp_following = inp.split()\n",
    "print(inp_first, inp_following)"
   ]
  },
  {
   "cell_type": "markdown",
   "id": "6f4122e0",
   "metadata": {},
   "source": [
    "#### itertools.combinations\n",
    "<font size=2>\n",
    "\n",
    "this tool will help generate all combinations with specific number"
   ]
  },
  {
   "cell_type": "code",
   "execution_count": 31,
   "id": "8f6baa57",
   "metadata": {},
   "outputs": [
    {
     "name": "stdout",
     "output_type": "stream",
     "text": [
      "HACK 2\n",
      "A\n",
      "C\n",
      "H\n",
      "K\n",
      "AC\n",
      "AH\n",
      "AK\n",
      "CH\n",
      "CK\n",
      "HK\n"
     ]
    }
   ],
   "source": [
    "from itertools import combinations\n",
    "# syntax: combinations(string, num)\n",
    "# e.g. combinations(HACK, 2)\n",
    "string, num = (input()).split()\n",
    "# transfer 'string' into 'list' to sort, which can make 'HACK' as 'ACHK'\n",
    "string = list(string)\n",
    "string.sort()\n",
    "num = int(num)\n",
    "lst = []\n",
    "for i in range(num):\n",
    "    lst = list(combinations(string,i+1))\n",
    "    for k in range(len(lst)):\n",
    "        tup = lst[k]\n",
    "        tup_str = ''\n",
    "        for j in tup:\n",
    "            tup_str += j\n",
    "        print(tup_str)"
   ]
  },
  {
   "cell_type": "markdown",
   "id": "f256f133",
   "metadata": {},
   "source": [
    "#### operations of list\n",
    "<font size=2>\n",
    "basic operations of lists include: insert,remove,append, sort, pop, reserve"
   ]
  },
  {
   "cell_type": "code",
   "execution_count": 10,
   "id": "62c069c4",
   "metadata": {},
   "outputs": [
    {
     "name": "stdout",
     "output_type": "stream",
     "text": [
      "[1, 4, 3, 2, 2, 2, 1]\n",
      "[1, 4, 3, 2, 2, 1]\n",
      "[1, 1, 2, 2, 3, 4]\n",
      "4 was poped\n",
      "[1, 1, 2, 2, 3]\n",
      "[3, 2, 2, 1, 1]\n"
     ]
    }
   ],
   "source": [
    "# Insert element 'e' at position 'i' into 'lst'\n",
    "def insert_e_to_i(lst,i,e):\n",
    "    lst.insert(i,e)\n",
    "    return lst\n",
    "\n",
    "# Delete the first occurrence of integer 'e'\n",
    "def remove_e(lst,e):\n",
    "    lst.remove(e)\n",
    "    return lst\n",
    "\n",
    "# Insert integer 'e' at the end of the list\n",
    "def append_e(lst,e):\n",
    "    lst.append(e)\n",
    "    return lst\n",
    "\n",
    "# Sort the list\n",
    "def sort_lst(lst):\n",
    "    lst.sort()\n",
    "    return lst\n",
    "\n",
    "# The pop() method removes the item at the given index from the list\n",
    "# and returns the removed item.\n",
    "# here to pop the last element in the lst\n",
    "def pop_last_e(lst):\n",
    "    poped_e = lst.pop(-1)\n",
    "    print('{} was poped'.format(poped_e))\n",
    "    return lst\n",
    "\n",
    "# Reverse the list\n",
    "def reverse_lst(lst):\n",
    "    lst = lst[::-1]\n",
    "    return lst\n",
    "\n",
    "lst = [1,3,2,2,2,1]\n",
    "lst = insert_e_to_i(lst,1,4)\n",
    "print(lst)\n",
    "lst = remove_e(lst,2)\n",
    "print(lst)\n",
    "lst = sort_lst(lst)\n",
    "print(lst)\n",
    "lst = pop_last_e(lst)\n",
    "print(lst)\n",
    "lst = reverse_lst(lst)\n",
    "print(lst)"
   ]
  },
  {
   "cell_type": "markdown",
   "id": "f4270ee3",
   "metadata": {},
   "source": [
    "#### swap between ASCII codes and characters"
   ]
  },
  {
   "cell_type": "code",
   "execution_count": 26,
   "id": "553c3583",
   "metadata": {},
   "outputs": [
    {
     "name": "stdout",
     "output_type": "stream",
     "text": [
      "97\n",
      "b\n"
     ]
    }
   ],
   "source": [
    "a = 'a'\n",
    "print(ord(a))\n",
    "b = 98\n",
    "print(chr(b))"
   ]
  },
  {
   "cell_type": "markdown",
   "id": "9e4bdf2c",
   "metadata": {},
   "source": [
    "#### string"
   ]
  },
  {
   "cell_type": "code",
   "execution_count": 15,
   "id": "baee4fc9",
   "metadata": {},
   "outputs": [
    {
     "name": "stdout",
     "output_type": "stream",
     "text": [
      "a\n",
      "\n",
      "hello world\n",
      "['c', 'o', 'n', 'g', 'r', 'k', 'd', 'u', 'l', 'a', 't', 'i', 'o', 'n']\n",
      "congrkdulation\n",
      "c-o-n-g-r-k-d-u-l-a-t-i-o-n\n",
      "boomfrang\n",
      "True False\n",
      "True False\n",
      "True False\n",
      "True False\n"
     ]
    }
   ],
   "source": [
    "# string can index\n",
    "s0 = 'sdfasdflj'\n",
    "print(s0[3])\n",
    "# vacant string\n",
    "s1 = ''\n",
    "print(s1)\n",
    "# cancatination between strings\n",
    "s2_0 = 'hello '\n",
    "s2_1 = 'world'\n",
    "print(s2_0+s2_1)\n",
    "# 'join' of string\n",
    "s3 = 'congradulation'\n",
    "s3_lst = list(s3)\n",
    "s3_lst[5] = 'k'\n",
    "print(s3_lst)\n",
    "s3 = ''.join(s3_lst)\n",
    "print(s3)\n",
    "s3 = '-'.join(s3_lst)\n",
    "print(s3)\n",
    "# slicing of string\n",
    "s4 = 'boomerang'\n",
    "s4 = s4[:4] + 'f' + s4[5:]\n",
    "print(s4)\n",
    "# built-in check methods: https://docs.python.org/2/library/stdtypes.html#str.isalnum\n",
    "# str.isalnum()\n",
    "#     checks if all the characters of a string are alphanumeric (a-z, A-Z and 0-9).\n",
    "print('jkl324'.isalnum(), 'adf()af'.isalnum())\n",
    "# str.isalpha()\n",
    "#     checks if all the characters of a string are alphabetical (a-z and A-Z).\n",
    "print('asdflj'.isalpha(), 'asdf4561'.isalpha())\n",
    "# str.isdigit()\n",
    "#     checks if all the characters of a string are digits (0-9).\n",
    "print('123456'.isdigit(), 'adf456'.isdigit())\n",
    "# str.islower()  str.isupper()\n",
    "#     checks if all the characters of a string are lowercase/upperacase characters (a-z).\n",
    "print('JKL'.isupper(),'JKL'.islower())\n"
   ]
  },
  {
   "cell_type": "code",
   "execution_count": null,
   "id": "75bd926b",
   "metadata": {},
   "outputs": [],
   "source": []
  }
 ],
 "metadata": {
  "kernelspec": {
   "display_name": "Python 3 (ipykernel)",
   "language": "python",
   "name": "python3"
  },
  "language_info": {
   "codemirror_mode": {
    "name": "ipython",
    "version": 3
   },
   "file_extension": ".py",
   "mimetype": "text/x-python",
   "name": "python",
   "nbconvert_exporter": "python",
   "pygments_lexer": "ipython3",
   "version": "3.9.12"
  },
  "varInspector": {
   "cols": {
    "lenName": 16,
    "lenType": 16,
    "lenVar": 40
   },
   "kernels_config": {
    "python": {
     "delete_cmd_postfix": "",
     "delete_cmd_prefix": "del ",
     "library": "var_list.py",
     "varRefreshCmd": "print(var_dic_list())"
    },
    "r": {
     "delete_cmd_postfix": ") ",
     "delete_cmd_prefix": "rm(",
     "library": "var_list.r",
     "varRefreshCmd": "cat(var_dic_list()) "
    }
   },
   "types_to_exclude": [
    "module",
    "function",
    "builtin_function_or_method",
    "instance",
    "_Feature"
   ],
   "window_display": false
  }
 },
 "nbformat": 4,
 "nbformat_minor": 5
}
