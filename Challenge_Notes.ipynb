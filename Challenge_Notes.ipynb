{
 "cells": [
  {
   "cell_type": "markdown",
   "id": "6af36aa2",
   "metadata": {},
   "source": [
    "#### print( )\n",
    "<font size = 2>\n",
    "In Python 2, the default print is a simple IO method that doesn't give many options to play around with.\n",
    "\n",
    "The following two examples will summarize it.\n",
    "    \n",
    "Exampl 1:\n",
    "    \n",
    "    var, var1, var2 = 1,2,3\n",
    "    print var\n",
    "    print var1, var2 \n",
    "Prints two lines and, in the second line, **var1** and **var2** are separated by a single space.\n",
    "    \n",
    "Exampl 2:\n",
    "    \n",
    "    print(*values, sep=' ', end='\\n', file=sys.stdout)\n",
    "    print(value1, value2, value3, sep=' ', end='\\n', file=sys.stdout)\n",
    "    \n",
    "Here, values is an array and *values means array is unpacked, you can add values separated by a comma too. The arguments sep, end, and file are optional, but they can prove helpful in formatting output without taking help from a string module.\n",
    "\n",
    "The argument definitions are below:\n",
    "    \n",
    "**sep** defines the delimiter between the values.\n",
    "    \n",
    "**end** defines what to print after the values.\n",
    "    \n",
    "**file** defines the output stream."
   ]
  },
  {
   "cell_type": "code",
   "execution_count": 4,
   "id": "1a43cc14",
   "metadata": {},
   "outputs": [
    {
     "name": "stdout",
     "output_type": "stream",
     "text": [
      "3\n",
      "1233\n",
      "1\n",
      "2\n",
      "3\n"
     ]
    }
   ],
   "source": [
    "# with end = ''\n",
    "n = int(input())\n",
    "for i in range(1,n+1):\n",
    "    print(i,end='')\n",
    "# without end = ''\n",
    "n = int(input())\n",
    "for i in range(1,n+1):\n",
    "    print(i)"
   ]
  },
  {
   "cell_type": "markdown",
   "id": "46005d64",
   "metadata": {},
   "source": [
    "#### default function\n",
    "<font size = 2>\n",
    "In a defined function,if we can set a default value for some input, e.g. in this case:\n",
    "    \n",
    "    stram='even'\n",
    "    \n",
    "so if input **stream** is not clearly assigned when the function is called **stream** will defautly be **even**, unless **stream** is cleared assigned as **odd**."
   ]
  },
  {
   "cell_type": "code",
   "execution_count": 15,
   "id": "dc1749be",
   "metadata": {},
   "outputs": [
    {
     "name": "stdout",
     "output_type": "stream",
     "text": [
      "how many queries do you want? give a number: 2\n",
      "give a query in form of: odd/even digiteven 4\n",
      "0\n",
      "2\n",
      "4\n",
      "6\n",
      "give a query in form of: odd/even digitodd 9\n",
      "1\n",
      "3\n",
      "5\n",
      "7\n",
      "9\n",
      "11\n",
      "13\n",
      "15\n",
      "17\n"
     ]
    }
   ],
   "source": [
    "def print_from_stream(n, stream='even'):    \n",
    "    if stream == 'even':\n",
    "        EvenStream(n)\n",
    "    elif stream == 'odd':\n",
    "        OddStream(n)\n",
    "    \n",
    "def OddStream(num):\n",
    "    for i in range(num):\n",
    "        print(2*i+1)\n",
    "        \n",
    "def EvenStream(num):    \n",
    "    for i in range(num):\n",
    "        print(2*i)\n",
    "\n",
    "q = int(input('how many queries do you want? give a number: '))\n",
    "for i in range(q):\n",
    "    query = input('give a query in form of: odd/even digit')\n",
    "    mod, n = query.split()\n",
    "    n = int(n)\n",
    "    if mod == 'even':\n",
    "        print_from_stream(n)\n",
    "    elif mod == 'odd':\n",
    "        print_from_stream(n,'odd')"
   ]
  },
  {
   "cell_type": "markdown",
   "id": "ea5d8687",
   "metadata": {},
   "source": [
    "#### list comprehensions\n",
    "<font size=2>\n",
    "This will step over every element in a sequence, successively setting the loop-variable equal to every element one at a time. It will then build up a list by evaluating the expression-involving-loop-variable for each one. This eliminates the need to use lambda forms and generally produces a much more readable code than using map() and a more compact code than using a for loop.\n",
    "    \n",
    "    >> ListOfNumbers = [ x for x in range(10) ] # List of integers from 0 to 9\n",
    "    >> ListOfNumbers\n",
    "    [0, 1, 2, 3, 4, 5, 6, 7, 8, 9]\n",
    "    \n",
    "For example, if you want to generate all combinations of lists [1,2,3] and [4,5,6], write:\n",
    "    \n",
    "    >>> print([[x, y] for x in [1, 2, 3] for y in [4, 5, 6]])\n",
    "    [[1, 4], [1, 5], [1, 6], [2, 4], [2, 5], [2, 6], [3, 4], [3, 5], [3, 6]]\n",
    "    \n",
    "This is equivalent to:\n",
    "    \n",
    "    >>> results = []\n",
    "    >>> for x in [1, 2, 3]:\n",
    "    ...     for y in [4, 5, 6]:\n",
    "    ...         results.append([x, y])\n",
    "    ... \n",
    "    >>> print(results)\n",
    "    [[1, 4], [1, 5], [1, 6], [2, 4], [2, 5], [2, 6], [3, 4], [3, 5], [3, 6]]\n",
    "    \n",
    "The final form of list comprehension involves creating a list and filtering it similar to using the filter() method. The filtering form of list comprehension takes the following form:\n",
    "    \n",
    "    >> ListOfThreeMultiples = [x for x in range(10) if x % 3 == 0] # Multiples of 3 below 10\n",
    "    >> ListOfThreeMultiples\n",
    "    [0, 3, 6, 9]"
   ]
  },
  {
   "cell_type": "code",
   "execution_count": 1,
   "id": "a5482277",
   "metadata": {},
   "outputs": [
    {
     "name": "stdout",
     "output_type": "stream",
     "text": [
      "[[0, 0, 0], [0, 0, 1], [0, 0, 3], [0, 0, 4], [0, 1, 0], [0, 1, 2], [0, 1, 3], [0, 1, 4], [0, 2, 1], [0, 2, 2], [0, 2, 3], [0, 2, 4], [0, 3, 0], [0, 3, 1], [0, 3, 2], [0, 3, 3], [0, 3, 4], [1, 0, 0], [1, 0, 2], [1, 0, 3], [1, 0, 4], [1, 1, 1], [1, 1, 2], [1, 1, 3], [1, 1, 4], [1, 2, 0], [1, 2, 1], [1, 2, 2], [1, 2, 3], [1, 2, 4], [1, 3, 0], [1, 3, 1], [1, 3, 2], [1, 3, 3], [1, 3, 4], [2, 0, 1], [2, 0, 2], [2, 0, 3], [2, 0, 4], [2, 1, 0], [2, 1, 1], [2, 1, 2], [2, 1, 3], [2, 1, 4], [2, 2, 0], [2, 2, 1], [2, 2, 2], [2, 2, 3], [2, 2, 4], [2, 3, 0], [2, 3, 1], [2, 3, 2], [2, 3, 3], [2, 3, 4]]\n"
     ]
    }
   ],
   "source": [
    "x = 2\n",
    "y = 3\n",
    "z = 4\n",
    "n = 2\n",
    "out = [[i,j,k] for i in range(x+1) for j in range(y+1) for k in range(z+1) if (i+j+k)!=n]\n",
    "print(out)"
   ]
  },
  {
   "cell_type": "markdown",
   "id": "86c3aba4",
   "metadata": {},
   "source": [
    "#### set vs list\n",
    "<font size=2>\n",
    "\n",
    "Check this link to know what is **map** object:\n",
    "    \n",
    "    https://www.geeksforgeeks.org/python-map-function/\n",
    "    \n",
    "**set** can remove the repetitive values."
   ]
  },
  {
   "cell_type": "code",
   "execution_count": 7,
   "id": "d4dc5c7f",
   "metadata": {},
   "outputs": [
    {
     "name": "stdout",
     "output_type": "stream",
     "text": [
      "1 6 2 5 4 2 2 2 2 3 6 5\n",
      "arr as map:  <map object at 0x7f6d903a58b0>\n",
      "arr as set:  {1, 2, 3, 4, 5, 6}\n",
      "arr as sorted list:  [1, 2, 3, 4, 5, 6]\n",
      "5\n"
     ]
    }
   ],
   "source": [
    "arr = map(int, input().split())\n",
    "print('arr as map: ', arr)\n",
    "arr = set(arr)\n",
    "print('arr as set: ',arr)\n",
    "arr = list(arr)\n",
    "arr.sort()\n",
    "print('arr as sorted list: ', arr)\n",
    "# to find the second smallest value in a list\n",
    "# even if there are repetitive values\n",
    "print(arr[-2])"
   ]
  },
  {
   "cell_type": "markdown",
   "id": "5c1afee5",
   "metadata": {},
   "source": [
    "#### .split( )\n",
    "<font size=2>\n",
    "    \n",
    "1. separately store\n",
    "\n",
    "If input has multiple blank and use **.split()** to split it, the elements can be indiviaually stored in variables;\n",
    "    \n",
    "2. pack in a list\n",
    "\n",
    "or directly in a list with splitted elements which are of type of 'String'.\n",
    "    \n",
    "3. starred assignment\n",
    "\n",
    "or use '*' before a variable to store multiple returned results.\n",
    "    \n",
    "    attention: starred assignment cannot be applied alone(see case below)"
   ]
  },
  {
   "cell_type": "code",
   "execution_count": 20,
   "id": "f4d96cca",
   "metadata": {},
   "outputs": [
    {
     "name": "stdout",
     "output_type": "stream",
     "text": [
      "give a string with blanks: 1 2 5\n",
      "1 2 5\n",
      "['1', '2', '5']\n",
      "1 ['2', '5']\n"
     ]
    }
   ],
   "source": [
    "# input: 1 2 5\n",
    "inp = input('give a string with blanks: ')\n",
    "# 1. separately store\n",
    "inp1, inp2, inp3 = inp.split()\n",
    "print(inp1, inp2, inp3)\n",
    "# 2. pack in a list\n",
    "inp_lst = inp.split()\n",
    "print(inp_lst)\n",
    "# 3. starred assignment\n",
    "inp_first, *inp_following = inp.split()\n",
    "print(inp_first, inp_following)"
   ]
  },
  {
   "cell_type": "markdown",
   "id": "6f4122e0",
   "metadata": {},
   "source": [
    "#### itertools.combinations()\n",
    "<font size=2>\n",
    "    \n",
    "this tool will help generate all combinations with specific number"
   ]
  },
  {
   "cell_type": "code",
   "execution_count": 3,
   "id": "8f6baa57",
   "metadata": {},
   "outputs": [
    {
     "name": "stdout",
     "output_type": "stream",
     "text": [
      "HACK 2\n",
      "[('A',), ('C',), ('H',), ('K',)]\n",
      "A\n",
      "C\n",
      "H\n",
      "K\n",
      "[('A', 'C'), ('A', 'H'), ('A', 'K'), ('C', 'H'), ('C', 'K'), ('H', 'K')]\n",
      "AC\n",
      "AH\n",
      "AK\n",
      "CH\n",
      "CK\n",
      "HK\n",
      "ab\n"
     ]
    }
   ],
   "source": [
    "from itertools import combinations\n",
    "# syntax: combinations(string, num)\n",
    "# e.g. combinations(HACK, 2)\n",
    "string, num = (input()).split()\n",
    "# transfer 'string' into 'list' to sort, which can make 'HACK' as 'ACHK'\n",
    "string = list(string)\n",
    "string.sort()\n",
    "num = int(num)\n",
    "lst = []\n",
    "for i in range(num):\n",
    "    lst = list(combinations(string,i+1))\n",
    "    print(lst)\n",
    "    for k in range(len(lst)):\n",
    "        tup = lst[k]\n",
    "        tup_str = ''\n",
    "        for j in tup:\n",
    "            tup_str += j\n",
    "        print(tup_str)"
   ]
  },
  {
   "cell_type": "markdown",
   "id": "3609ab7b",
   "metadata": {},
   "source": [
    "#### itertools.product()\n",
    "<font size=2>\n",
    "    \n",
    "This tool computes the cartesian product of input iterables.\n",
    "It is equivalent to nested for-loops."
   ]
  },
  {
   "cell_type": "code",
   "execution_count": 8,
   "id": "1e9ab6cb",
   "metadata": {},
   "outputs": [
    {
     "name": "stdout",
     "output_type": "stream",
     "text": [
      "[(1, 1), (1, 2), (1, 3), (2, 1), (2, 2), (2, 3), (3, 1), (3, 2), (3, 3)]\n",
      "[(1, 3), (1, 4), (2, 3), (2, 4), (3, 3), (3, 4)]\n",
      "[(1, 3), (1, 4), (1, 5), (2, 3), (2, 4), (2, 5), (3, 3), (3, 4), (3, 5)]\n",
      "[(1, 3, 7), (1, 3, 8), (1, 4, 7), (1, 4, 8), (1, 5, 7), (1, 5, 8), (2, 3, 7), (2, 3, 8), (2, 4, 7), (2, 4, 8), (2, 5, 7), (2, 5, 8), (3, 3, 7), (3, 3, 8), (3, 4, 7), (3, 4, 8), (3, 5, 7), (3, 5, 8)]\n"
     ]
    }
   ],
   "source": [
    "from itertools import product\n",
    "\n",
    "print(list(product([1,2,3],repeat = 2)))\n",
    "\n",
    "print(list(product([1,2,3],[3,4])))\n",
    "\n",
    "A = [[1,2,3],[3,4,5]]\n",
    "print(list(product(*A)))\n",
    "\n",
    "B = [[1,2,3],[3,4,5],[7,8]]\n",
    "print(list(product(*B)))"
   ]
  },
  {
   "cell_type": "markdown",
   "id": "fb8aacc3",
   "metadata": {},
   "source": [
    "#### itertools.permutations(iterable[ , r])\n",
    "<font size=2>\n",
    "    \n",
    "This tool returns successive $r$ length permutations of elements in an iterable.\n",
    "\n",
    "If $r$ is not specified or is **None**, then $r$ defaults to the length of the iterable, and all possible full length permutations are generated.\n",
    "\n",
    "Permutations are printed in a lexicographic sorted order. So, if the input iterable is sorted, the permutation tuples will be produced in a sorted order."
   ]
  },
  {
   "cell_type": "code",
   "execution_count": 10,
   "id": "5b01fcba",
   "metadata": {},
   "outputs": [
    {
     "name": "stdout",
     "output_type": "stream",
     "text": [
      "<itertools.permutations object at 0x7f2af4170360>\n",
      "[('1', '2', '3'), ('1', '3', '2'), ('2', '1', '3'), ('2', '3', '1'), ('3', '1', '2'), ('3', '2', '1')]\n",
      "[('1', '2'), ('1', '3'), ('2', '1'), ('2', '3'), ('3', '1'), ('3', '2')]\n",
      "[('a', 'b', 'c'), ('a', 'c', 'b'), ('b', 'a', 'c'), ('b', 'c', 'a'), ('c', 'a', 'b'), ('c', 'b', 'a')]\n"
     ]
    }
   ],
   "source": [
    "from itertools import permutations\n",
    "\n",
    "print(permutations(['1','2','3']))\n",
    "\n",
    "print(list(permutations(['1','2','3'])))\n",
    "\n",
    "print(list(permutations(['1','2','3'],2)))\n",
    "\n",
    "print(list(permutations('abc',3)))"
   ]
  },
  {
   "cell_type": "code",
   "execution_count": 4,
   "id": "ade7fbf0",
   "metadata": {},
   "outputs": [
    {
     "name": "stdout",
     "output_type": "stream",
     "text": [
      "WOOHOOLALALA\n",
      "Kevin 45\n"
     ]
    }
   ],
   "source": [
    "# This doesn't work\n",
    "from itertools import combinations\n",
    "\n",
    "def minion_game(string):\n",
    "    # your code goes here\n",
    "    # scores\n",
    "    score_Kevin = 0\n",
    "    score_Stuart = 0\n",
    "    \n",
    "    # store all combinations of individual\n",
    "    substr_Kevin = []\n",
    "    substr_Stuart = []\n",
    "    \n",
    "    # check-list of consonants and vowels\n",
    "    vowels = ['A','E','I','O','U']\n",
    "    \n",
    "    # get all combinations possibilities\n",
    "    string_lst = list(string)\n",
    "    lst = []\n",
    "    for i in range(len(string_lst)):\n",
    "        # lst: list containing tuples, in which all combinations of letters\n",
    "        lst = list(combinations(string_lst, i+1))\n",
    "        for tup in lst:\n",
    "            # if it starts with vowel, then give it to Kevin\n",
    "            if list(tup)[0] in vowels:\n",
    "                # convert them into string\n",
    "                comb_str = ''.join(list(tup))\n",
    "                substr_Kevin.append(comb_str)\n",
    "            # if it starts with consonants, then give it to Stuart\n",
    "            else:\n",
    "                comb_str = ''.join(list(tup))\n",
    "                substr_Stuart.append(comb_str)\n",
    "    # delete all repeatitive elements\n",
    "    substr_Kevin = list(set(substr_Kevin))\n",
    "    substr_Stuart = list(set(substr_Stuart))\n",
    "    # print(substr_Kevin)\n",
    "    # print(substr_Stuart)\n",
    "    \n",
    "    # calculate scores\n",
    "    # iterate layer 1: every substring in player list\n",
    "    for sub_str in substr_Kevin:\n",
    "        # iterate layer 2: length of checked string\n",
    "        for length in range(1,(len(string_lst)+1)):\n",
    "            # iterate layer 3: move checked string along 'string'\n",
    "            for pos in range(len(string_lst)):\n",
    "                # in case the index out of range\n",
    "                if (pos+length) > len(string_lst):\n",
    "                    continue\n",
    "                else:\n",
    "                    if sub_str == ''.join(string_lst[pos:(pos+length)]):\n",
    "                        score_Kevin += 1\n",
    "    # print(score_Kevin)\n",
    "    \n",
    "    # iterate layer 1: every substring in player list\n",
    "    for sub_str in substr_Stuart:\n",
    "        # iterate layer 2: length of checked string\n",
    "        for length in range(1,(len(string_lst)+1)):\n",
    "            # iterate layer 3: move checked string along 'string'\n",
    "            for pos in range(len(string_lst)):\n",
    "                # in case the index out of range\n",
    "                if (pos+length) > len(string_lst):\n",
    "                    continue\n",
    "                else:\n",
    "                    if sub_str == ''.join(string_lst[pos:(pos+length)]):\n",
    "                        score_Stuart += 1\n",
    "    # print(score_Stuart)\n",
    "    \n",
    "    # output the result\n",
    "    if score_Kevin > score_Stuart:\n",
    "        print('Kevin', score_Kevin)\n",
    "    if score_Kevin < score_Stuart:\n",
    "        print('Stuart', score_Stuart)\n",
    "    if score_Kevin == score_Stuart:\n",
    "        print('Draw')\n",
    "\n",
    "if __name__ == '__main__':\n",
    "    s = input()\n",
    "    minion_game(s)"
   ]
  },
  {
   "cell_type": "markdown",
   "id": "f256f133",
   "metadata": {},
   "source": [
    "#### operations of list\n",
    "<font size=2>\n",
    "basic operations of lists include: insert,remove,append, sort, pop, reserve"
   ]
  },
  {
   "cell_type": "code",
   "execution_count": 10,
   "id": "62c069c4",
   "metadata": {},
   "outputs": [
    {
     "name": "stdout",
     "output_type": "stream",
     "text": [
      "[1, 4, 3, 2, 2, 2, 1]\n",
      "[1, 4, 3, 2, 2, 1]\n",
      "[1, 1, 2, 2, 3, 4]\n",
      "4 was poped\n",
      "[1, 1, 2, 2, 3]\n",
      "[3, 2, 2, 1, 1]\n"
     ]
    }
   ],
   "source": [
    "# Insert element 'e' at position 'i' into 'lst'\n",
    "def insert_e_to_i(lst,i,e):\n",
    "    lst.insert(i,e)\n",
    "    return lst\n",
    "\n",
    "# Delete the first occurrence of integer 'e'\n",
    "def remove_e(lst,e):\n",
    "    lst.remove(e)\n",
    "    return lst\n",
    "\n",
    "# Insert integer 'e' at the end of the list\n",
    "def append_e(lst,e):\n",
    "    lst.append(e)\n",
    "    return lst\n",
    "\n",
    "# Sort the list\n",
    "def sort_lst(lst):\n",
    "    lst.sort()\n",
    "    return lst\n",
    "\n",
    "# The pop() method removes the item at the given index from the list\n",
    "# and returns the removed item.\n",
    "# here to pop the last element in the lst\n",
    "def pop_last_e(lst):\n",
    "    poped_e = lst.pop(-1)\n",
    "    print('{} was poped'.format(poped_e))\n",
    "    return lst\n",
    "\n",
    "# Reverse the list\n",
    "def reverse_lst(lst):\n",
    "    lst = lst[::-1]\n",
    "    return lst\n",
    "\n",
    "lst = [1,3,2,2,2,1]\n",
    "lst = insert_e_to_i(lst,1,4)\n",
    "print(lst)\n",
    "lst = remove_e(lst,2)\n",
    "print(lst)\n",
    "lst = sort_lst(lst)\n",
    "print(lst)\n",
    "lst = pop_last_e(lst)\n",
    "print(lst)\n",
    "lst = reverse_lst(lst)\n",
    "print(lst)"
   ]
  },
  {
   "cell_type": "markdown",
   "id": "f4270ee3",
   "metadata": {},
   "source": [
    "#### swap between ASCII codes and characters"
   ]
  },
  {
   "cell_type": "code",
   "execution_count": 26,
   "id": "553c3583",
   "metadata": {},
   "outputs": [
    {
     "name": "stdout",
     "output_type": "stream",
     "text": [
      "97\n",
      "b\n"
     ]
    }
   ],
   "source": [
    "a = 'a'\n",
    "print(ord(a))\n",
    "b = 98\n",
    "print(chr(b))"
   ]
  },
  {
   "cell_type": "markdown",
   "id": "9e4bdf2c",
   "metadata": {},
   "source": [
    "#### string"
   ]
  },
  {
   "cell_type": "code",
   "execution_count": 5,
   "id": "baee4fc9",
   "metadata": {},
   "outputs": [
    {
     "name": "stdout",
     "output_type": "stream",
     "text": [
      "a\n",
      "\n",
      "hello world\n",
      "['c', 'o', 'n', 'g', 'r', 'k', 'd', 'u', 'l', 'a', 't', 'i', 'o', 'n']\n",
      "congrkdulation\n",
      "c-o-n-g-r-k-d-u-l-a-t-i-o-n\n",
      "boomfrang\n",
      "a\n",
      "b\n",
      "c\n",
      "d\n",
      "e\n",
      "True False\n",
      "True False\n",
      "True False\n",
      "True False\n",
      "Adam chris\n"
     ]
    }
   ],
   "source": [
    "# string can index\n",
    "s0 = 'sdfasdflj'\n",
    "print(s0[3])\n",
    "# vacant string\n",
    "s1 = ''\n",
    "print(s1)\n",
    "# cancatination between strings\n",
    "s2_0 = 'hello '\n",
    "s2_1 = 'world'\n",
    "print(s2_0+s2_1)\n",
    "# 'join' of string\n",
    "s3 = 'congradulation'\n",
    "s3_lst = list(s3)\n",
    "s3_lst[5] = 'k'\n",
    "print(s3_lst)\n",
    "s3 = ''.join(s3_lst)\n",
    "print(s3)\n",
    "s3 = '-'.join(s3_lst)\n",
    "print(s3)\n",
    "# slicing of string\n",
    "s4 = 'boomerang'\n",
    "s4 = s4[:4] + 'f' + s4[5:]\n",
    "print(s4)\n",
    "# iterate\n",
    "s5 = 'abcde'\n",
    "for i in s5:\n",
    "    print(i)\n",
    "# built-in check methods: https://docs.python.org/2/library/stdtypes.html#str.isalnum\n",
    "# str.isalnum()\n",
    "#     checks if all the characters of a string are alphanumeric (a-z, A-Z and 0-9).\n",
    "print('jkl324'.isalnum(), 'adf()af'.isalnum())\n",
    "# str.isalpha()\n",
    "#     checks if all the characters of a string are alphabetical (a-z and A-Z).\n",
    "print('asdflj'.isalpha(), 'asdf4561'.isalpha())\n",
    "# str.isdigit()\n",
    "#     checks if all the characters of a string are digits (0-9).\n",
    "print('123456'.isdigit(), 'adf456'.isdigit())\n",
    "# str.islower()  str.isupper()\n",
    "#     checks if all the characters of a string are lowercase/upperacase characters (a-z).\n",
    "print('JKL'.isupper(),'JKL'.islower())\n",
    "# str.capitalize()\n",
    "#     make the first charactor of string as uppercase, the others all lowercase\n",
    "print('adam chris'.capitalize())"
   ]
  },
  {
   "cell_type": "markdown",
   "id": "492a7f66",
   "metadata": {},
   "source": [
    "#### set\n",
    "A set is an unordered collection of elements without duplicate entries.\n",
    "When printed, iterated or converted into a sequence, its elements will appear in an arbitrary order.\n",
    "Basically, sets are used for membership testing and eliminating duplicate entries."
   ]
  },
  {
   "cell_type": "code",
   "execution_count": 11,
   "id": "48ca7862",
   "metadata": {},
   "outputs": [
    {
     "name": "stdout",
     "output_type": "stream",
     "text": [
      "set()\n",
      "{'R', 'a', 'r', 'e', 'c', 'k', 'H', 'n'}\n",
      "{0, 1, 2, 3, 4, 5, 6, 9, 12, 22}\n",
      "{1, 2, 3, 4, 5}\n",
      "{'k', 'H', 'a', 'r', 'e', 'c', 'n'}\n",
      "{'Hacker', 'Rank'}\n",
      "{(4, 'e'), (9, 'k'), (8, 'n'), (1, 'a'), (5, 'r'), (6, 'r'), (3, 'k'), (0, 'H'), (2, 'c'), (7, 'a')}\n"
     ]
    }
   ],
   "source": [
    "print(set())\n",
    "print(set('HackerRank'))\n",
    "print(set([1,2,1,2,3,4,5,6,0,9,12,22,3]))\n",
    "print(set((1,2,3,4,5,5)))\n",
    "print(set(set(['H','a','c','k','e','r','r','a','n','k'])))\n",
    "print(set({'Hacker' : 'DOSHI', 'Rank' : 616 }))\n",
    "print(set(enumerate(['H','a','c','k','e','r','r','a','n','k'])))"
   ]
  },
  {
   "cell_type": "markdown",
   "id": "2920e40c",
   "metadata": {},
   "source": [
    "#### textwrap"
   ]
  },
  {
   "cell_type": "code",
   "execution_count": 8,
   "id": "fe7aa2e2",
   "metadata": {},
   "outputs": [
    {
     "name": "stdout",
     "output_type": "stream",
     "text": [
      "wrapped_string with type: <class 'list'>\n",
      "elements in wrapped_string with type: <class 'str'>\n",
      "This is\n",
      "a very\n",
      "very\n",
      "very\n",
      "very\n",
      "very\n",
      "long\n",
      "string.\n"
     ]
    }
   ],
   "source": [
    "import textwrap\n",
    "\n",
    "# textwrap.wrap()\n",
    "# The wrap() function wraps a single paragraph in text (a string)\n",
    "# so that every line is width characters long at most.\n",
    "# It returns a list of output lines.\n",
    "string = \"This is a very very very very very long string.\"\n",
    "wrapped_string = textwrap.wrap(string,8)\n",
    "print('wrapped_string with type: {}'.format(type(wrapped_string)))\n",
    "print('elements in wrapped_string with type: {}'.format(type(wrapped_string[0])))\n",
    "\n",
    "# textwrap.fill()\n",
    "# The fill() function wraps a single paragraph in text and returns a single string\n",
    "# containing the wrapped paragraph.\n",
    "string = \"This is a very very very very very long string.\"\n",
    "print(textwrap.fill(string,8))"
   ]
  },
  {
   "cell_type": "markdown",
   "id": "7154d1c7",
   "metadata": {},
   "source": [
    "#### transfer among decimal, binary, octal and hexadecimal form"
   ]
  },
  {
   "cell_type": "code",
   "execution_count": 12,
   "id": "a475e675",
   "metadata": {},
   "outputs": [
    {
     "name": "stdout",
     "output_type": "stream",
     "text": [
      "15\n",
      "   1    1    1    1\n",
      "   2    2    2   10\n",
      "   3    3    3   11\n",
      "   4    4    4  100\n",
      "   5    5    5  101\n",
      "   6    6    6  110\n",
      "   7    7    7  111\n",
      "   8   10    8 1000\n",
      "   9   11    9 1001\n",
      "  10   12    A 1010\n",
      "  11   13    B 1011\n",
      "  12   14    C 1100\n",
      "  13   15    D 1101\n",
      "  14   16    E 1110\n",
      "  15   17    F 1111\n"
     ]
    }
   ],
   "source": [
    "def print_formatted(number):\n",
    "    width = len(bin(number)[2:])\n",
    "    # your code goes here\n",
    "    for i in range(number):\n",
    "        Dec_num = str(i+1)\n",
    "        Oct_num = str(oct(i+1))\n",
    "        Hex_num = str(hex(i+1)).upper() # transfer lowercase to uppercase\n",
    "        Bin_num = str(bin(i+1))\n",
    "        print(Dec_num.rjust(width,' '),Oct_num[2:].rjust(width,' '),Hex_num[2:].rjust(width,' '),Bin_num[2:].rjust(width,' '))\n",
    "if __name__ == '__main__':\n",
    "    n = int(input())\n",
    "    print_formatted(n)"
   ]
  },
  {
   "cell_type": "markdown",
   "id": "2c8f9082",
   "metadata": {},
   "source": [
    "#### round N decimal places/ round to N places after decimal"
   ]
  },
  {
   "cell_type": "code",
   "execution_count": 14,
   "id": "0c5768ef",
   "metadata": {},
   "outputs": [
    {
     "name": "stdout",
     "output_type": "stream",
     "text": [
      "168.377\n"
     ]
    }
   ],
   "source": [
    "a = 168.3775\n",
    "print(round(a,3))"
   ]
  },
  {
   "cell_type": "markdown",
   "id": "041546b0",
   "metadata": {},
   "source": [
    "#### collections.Counter()\n",
    "A counter is a container that stores elements as dictionary keys, and their counts are stored as dictionary values."
   ]
  },
  {
   "cell_type": "code",
   "execution_count": 3,
   "id": "e343ffc4",
   "metadata": {},
   "outputs": [
    {
     "name": "stdout",
     "output_type": "stream",
     "text": [
      "Counter({2: 4, 3: 4, 1: 3, 4: 2, 5: 1}) <class 'collections.Counter'>\n",
      "{1: 3, 2: 4, 3: 4, 4: 2, 5: 1}\n",
      "dict_items([(1, 3), (2, 4), (3, 4), (4, 2), (5, 1)])\n",
      "dict_keys([1, 2, 3, 4, 5])\n",
      "dict_values([3, 4, 4, 2, 1])\n"
     ]
    }
   ],
   "source": [
    "from collections import Counter\n",
    "\n",
    "myList = [1,1,2,3,4,5,3,2,3,4,2,1,2,3]\n",
    "print(Counter(myList),type(Counter(myList)))\n",
    "print(dict(Counter(myList)))\n",
    "print(Counter(myList).items())\n",
    "print(Counter(myList).keys())\n",
    "print(Counter(myList).values())"
   ]
  },
  {
   "cell_type": "markdown",
   "id": "ded51780",
   "metadata": {},
   "source": [
    "#### collections.defaultdict( )\n",
    "The defaultdict tool is a container in the collections class of Python. It's similar to the usual dictionary (dict) container, but the only difference is that a defaultdict will have a default value if that key has not been set yet. If you didn't use a defaultdict you'd have to check to see if that key exists, and if it doesn't, set it to what you want."
   ]
  },
  {
   "cell_type": "code",
   "execution_count": 20,
   "id": "f18a9796",
   "metadata": {},
   "outputs": [
    {
     "name": "stdout",
     "output_type": "stream",
     "text": [
      "('python', ['awesome', 'language'])\n",
      "('something-else', ['not relevant'])\n"
     ]
    }
   ],
   "source": [
    "from collections import defaultdict\n",
    "d = defaultdict(list)\n",
    "d['python'].append(\"awesome\")\n",
    "d['something-else'].append(\"not relevant\")\n",
    "d['python'].append(\"language\")\n",
    "for i in d.items():\n",
    "    print(i)"
   ]
  },
  {
   "cell_type": "code",
   "execution_count": 10,
   "id": "28dc8b2b",
   "metadata": {},
   "outputs": [
    {
     "name": "stdout",
     "output_type": "stream",
     "text": [
      "1 1\n",
      "s\n",
      "t\n",
      "defaultdict(<class 'list'>, {'B_t': [-1]})\n",
      "-1\n"
     ]
    }
   ],
   "source": [
    "# In this challenge, you will be given 2 integers, n and m.\n",
    "# There are n words, which might repeat, in word group A.\n",
    "# There are m words belonging to word group B.\n",
    "# For each m words, check whether the word has appeared in group A or not.\n",
    "# Print the indices of each occurrence of m in group A.\n",
    "# If it does not appear, print -1.\n",
    "# input:\n",
    "# 5 2\n",
    "# a\n",
    "# a\n",
    "# b\n",
    "# a\n",
    "# b\n",
    "# a\n",
    "# b\n",
    "from collections import defaultdict\n",
    "dd = defaultdict(list)\n",
    "res = defaultdict(list)\n",
    "\n",
    "A_num, B_num = [int(i) for i in input().split()]\n",
    "for i in range(A_num):\n",
    "    dd['groupA'].append(input())\n",
    "for i in range(B_num):\n",
    "    dd['groupB'].append(input())\n",
    "    \n",
    "for i in dd['groupB']:\n",
    "    for idx,j in enumerate(dd['groupA']):\n",
    "        if i == j:\n",
    "            res['B_{}'.format(i)].append(idx+1)\n",
    "    if res['B_{}'.format(i)] == []:\n",
    "        res['B_{}'.format(i)].append(-1)\n",
    "\n",
    "for k in res:\n",
    "    # adding * before a list print only the elements in the very list \n",
    "    print(*res[k])"
   ]
  },
  {
   "cell_type": "markdown",
   "id": "87f4b715",
   "metadata": {},
   "source": [
    "#### collections.namedtuple()\n",
    "Basically, namedtuples are easy to create, lightweight object types.\n",
    "They turn tuples into convenient containers for simple tasks.\n",
    "With namedtuples, you don’t have to use integer indices for accessing members of a tuple."
   ]
  },
  {
   "cell_type": "code",
   "execution_count": 22,
   "id": "423820f1",
   "metadata": {},
   "outputs": [
    {
     "name": "stdout",
     "output_type": "stream",
     "text": [
      "11\n"
     ]
    }
   ],
   "source": [
    "from collections import namedtuple\n",
    "Point = namedtuple('Point','x,y')\n",
    "pt1 = Point(1,2)\n",
    "pt2 = Point(3,4)\n",
    "dot_product = ( pt1.x * pt2.x ) +( pt1.y * pt2.y )\n",
    "print(dot_product)"
   ]
  },
  {
   "cell_type": "code",
   "execution_count": 24,
   "id": "54999d0c",
   "metadata": {},
   "outputs": [
    {
     "name": "stdout",
     "output_type": "stream",
     "text": [
      "Car(Price=100000, Mileage=30, Colour='Cyan', Class='Y') <class '__main__.Car'>\n",
      "Y\n"
     ]
    }
   ],
   "source": [
    "from collections import namedtuple\n",
    "Car = namedtuple('Car','Price Mileage Colour Class')\n",
    "xyz = Car(Price = 100000, Mileage = 30, Colour = 'Cyan', Class = 'Y')\n",
    "print(xyz,type(xyz))\n",
    "Car(Price=100000, Mileage=30, Colour='Cyan', Class='Y')\n",
    "print(xyz.Class)"
   ]
  },
  {
   "cell_type": "markdown",
   "id": "604f4963",
   "metadata": {},
   "source": [
    "#### collections.OrderedDict()\n",
    "An OrderedDict is a dictionary that remembers the order of the keys that were inserted first. If a new entry overwrites an existing entry, the original insertion position is left unchanged."
   ]
  },
  {
   "cell_type": "code",
   "execution_count": 31,
   "id": "d9b03c31",
   "metadata": {},
   "outputs": [
    {
     "name": "stdout",
     "output_type": "stream",
     "text": [
      "{'a': 1, 'b': 2, 'd': 4, 'c': 3, 'e': 5}\n",
      "OrderedDict([('a', 1), ('b', 2), ('c', 3), ('d', 4), ('e', 5)]) <class 'collections.OrderedDict'>\n",
      "1 <class 'int'>\n"
     ]
    }
   ],
   "source": [
    "from collections import OrderedDict\n",
    " \n",
    "ordinary_dictionary = {}\n",
    "ordinary_dictionary['a'] = 1\n",
    "ordinary_dictionary['b'] = 2\n",
    "ordinary_dictionary['d'] = 4\n",
    "ordinary_dictionary['c'] = 3\n",
    "ordinary_dictionary['e'] = 5\n",
    "\n",
    "print(ordinary_dictionary)\n",
    "\n",
    "ordered_dictionary = OrderedDict()\n",
    "ordered_dictionary['a'] = 1\n",
    "ordered_dictionary['b'] = 2\n",
    "ordered_dictionary['c'] = 3\n",
    "ordered_dictionary['d'] = 4\n",
    "ordered_dictionary['e'] = 5\n",
    "\n",
    "print(ordered_dictionary, type(ordered_dictionary))\n",
    "print(ordered_dictionary['a'], type(ordered_dictionary['a']))"
   ]
  },
  {
   "cell_type": "markdown",
   "id": "95cb9cf8",
   "metadata": {},
   "source": [
    "#### collections.deque()\n",
    "A deque is a double-ended queue. It can be used to add or remove elements from both ends.\n",
    "\n",
    "Deques support thread safe, memory efficient appends and pops from either side of the deque with approximately the same $O(1)$ performance in either direction.\n",
    "\n",
    "Click on the link to learn more about deque() methods:\n",
    "\n",
    "https://docs.python.org/2/library/collections.html#deque-objects\n",
    "\n",
    "Click on the link to learn more about various approaches to working with deques:\n",
    "\n",
    "https://docs.python.org/2.7/library/collections.html#deque-recipes"
   ]
  },
  {
   "cell_type": "code",
   "execution_count": 32,
   "id": "ceb57d14",
   "metadata": {},
   "outputs": [
    {
     "name": "stdout",
     "output_type": "stream",
     "text": [
      "deque([1])\n",
      "deque([2, 1])\n",
      "deque([])\n",
      "deque(['1'])\n",
      "deque(['4', '3', '2', '1'])\n",
      "1\n",
      "deque(['4', '3', '2'])\n",
      "deque(['3', '2'])\n",
      "deque(['3', '2', '7', '8', '9', '6'])\n",
      "deque(['3', '7', '8', '9', '6'])\n",
      "deque(['6', '9', '8', '7', '3'])\n",
      "deque(['8', '7', '3', '6', '9'])\n"
     ]
    }
   ],
   "source": [
    "from collections import deque\n",
    "d = deque()\n",
    "# append(x): Add x to the right side of the deque.\n",
    "d.append(1)\n",
    "print(d)\n",
    "# appendleft(x): Add x to the left side of the deque.\n",
    "d.appendleft(2)\n",
    "print(d)\n",
    "# clear(): Remove all elements from the deque leaving it with length 0.\n",
    "d.clear()\n",
    "print(d)\n",
    "# extend(iterable): Extend the right side of the deque by appending elements from the iterable argument.\n",
    "d.extend('1')\n",
    "print(d)\n",
    "# extendleft(iterable): Extend the left side of the deque by appending elements from iterable.\n",
    "# Note, the series of left appends results in reversing the order of elements in the iterable argument.\n",
    "d.extendleft('234')\n",
    "print(d)\n",
    "# count(x): Count the number of deque elements equal to x.\n",
    "print(d.count('1'))\n",
    "# pop(): Remove and return an element from the right side of the deque.\n",
    "# If no elements are present, raises an IndexError.\n",
    "d.pop()\n",
    "print(d)\n",
    "# popleft(): Remove and return an element from the left side of the deque.\n",
    "# If no elements are present, raises an IndexError.\n",
    "d.popleft()\n",
    "print(d)\n",
    "\n",
    "d.extend('7896')\n",
    "print(d)\n",
    "# remove(value): Remove the first occurrence of value.\n",
    "# If not found, raises a ValueError.\n",
    "d.remove('2')\n",
    "print(d)\n",
    "# reverse(): Reverse the elements of the deque in-place and then return None.\n",
    "d.reverse()\n",
    "print(d)\n",
    "# rotate(n=1): Rotate the deque n steps to the right. If n is negative, rotate to the left.\n",
    "d.rotate(3)\n",
    "print(d)"
   ]
  },
  {
   "cell_type": "markdown",
   "id": "1a85d0eb",
   "metadata": {},
   "source": [
    "#### sort() and sorted()\n",
    "check:\n",
    "how to use sorted() with lambda:\n",
    "\n",
    "https://blog.csdn.net/qq_41500249/article/details/106244810\n",
    "\n",
    "how to use sorted() with multiple criterions:\n",
    "\n",
    "https://stackoverflow.com/questions/19182895/how-to-sort-in-python-with-multiple-conditions"
   ]
  },
  {
   "cell_type": "code",
   "execution_count": 53,
   "id": "2bd7fc6d",
   "metadata": {},
   "outputs": [
    {
     "name": "stdout",
     "output_type": "stream",
     "text": [
      "[['a', 9], ['b', 5], ['c', 4], ['d', 2], ['e', 9]]\n",
      "[['a', 9], ['e', 9], ['b', 5], ['c', 4], ['d', 2]]\n"
     ]
    }
   ],
   "source": [
    "# .sort() will sort a list defaultly with first element of sub-list ascendingly\n",
    "lst = [['a',9],['e',9],['c',4],['b',5],['d',2]]\n",
    "lst.sort()\n",
    "print(lst)\n",
    "# sorted(list, key=lambda x: (cond1, cond2))\n",
    "# to sort the 'list' with key\n",
    "# cond1 and cond2 are criterions which contain the 'lambda x'\n",
    "# e.g.\n",
    "# x here represents each sub-list in the 'list'\n",
    "# x[1] here represents 1st element in each 'x' as first criterion\n",
    "# x[0] here represents 0th element in each 'x' as second criterion\n",
    "# if specific criterion needs to be ordered ascendingly, leave it positiv, e.g. x[0]\n",
    "# if specific criterion needs to be ordered descendingly, leave it positiv, e.g. -x[1]\n",
    "# so in this case:\n",
    "# sort 'lst', descendingly firstly with 1st element in sub-list\n",
    "#             ascendingly secondly with 0th element in sub-list\n",
    "out = sorted(lst, key=lambda x: (-x[1],x[0]))\n",
    "print(out)"
   ]
  },
  {
   "cell_type": "markdown",
   "id": "81b90619",
   "metadata": {},
   "source": [
    "#### how to find the index of the maximum in a list"
   ]
  },
  {
   "cell_type": "code",
   "execution_count": 38,
   "id": "8b028e81",
   "metadata": {},
   "outputs": [
    {
     "name": "stdout",
     "output_type": "stream",
     "text": [
      "4\n",
      "[1, 4]\n"
     ]
    }
   ],
   "source": [
    "# no duplicates\n",
    "lst1 = [12,3,23,44,54,32,13,5]\n",
    "max_idx = lst1.index(max(lst1))\n",
    "print(max_idx)\n",
    "# with duplicates\n",
    "lst2 = [12,54,23,44,54,32,13,5]\n",
    "max_idx = [ idx for idx,i in enumerate(lst2) if i==max(lst2)]\n",
    "print(max_idx)"
   ]
  },
  {
   "cell_type": "code",
   "execution_count": 58,
   "id": "13547d28",
   "metadata": {},
   "outputs": [
    {
     "name": "stdout",
     "output_type": "stream",
     "text": [
      "0 -4 -6 0 -7 -6\n",
      "-1 -2 -6 -8 -3 -1\n",
      "-8 -4 -2 -8 -8 -6\n",
      "-3 -1 -2 -5 -7 -4\n",
      "-3 -5 -3 -6 -6 -6\n",
      "-3 -6 0 -8 -6 -7\n",
      "[[0, 0, 0], [0, 0, 0], [0, 0, 0]]\n",
      "-26\n",
      "-30\n",
      "-39\n",
      "-38\n",
      "-19\n",
      "-26\n",
      "-39\n",
      "-36\n",
      "-26\n",
      "-30\n",
      "-38\n",
      "-47\n",
      "-20\n",
      "-25\n",
      "-34\n",
      "-43\n",
      "maximum:  0\n"
     ]
    }
   ],
   "source": [
    "def hourglassSum(arr):\n",
    "    # Write your code here\n",
    "    glasshour = []\n",
    "    for i in range(3):\n",
    "        glasshour.append([0,0,0])\n",
    "    print(glasshour)\n",
    "    \n",
    "    maximum = 0\n",
    "    \n",
    "    for i in range(4):\n",
    "        for j in range(4):\n",
    "            glasshour[0] = arr[i][j:j+3]\n",
    "            glasshour[1] = arr[i+1][j:j+3]\n",
    "            glasshour[2] = arr[i+2][j:j+3]\n",
    "            glasshour[1][0] = 0\n",
    "            glasshour[1][2] = 0\n",
    "            flat_glass = [m for k in glasshour for m in k]\n",
    "            glass_sum = sum(flat_glass)\n",
    "            print(glass_sum)\n",
    "            if glass_sum >= maximum:\n",
    "                maximum = glass_sum\n",
    "    return maximum\n",
    "# 0 -4 -6 0 -7 -6\n",
    "# -1 -2 -6 -8 -3 -1\n",
    "# -8 -4 -2 -8 -8 -6\n",
    "# -3 -1 -2 -5 -7 -4\n",
    "# -3 -5 -3 -6 -6 -6\n",
    "# -3 -6 0 -8 -6 -7\n",
    "arr = []\n",
    "for _ in range(6):\n",
    "    arr.append(list(map(int, input().rstrip().split())))\n",
    "result = hourglassSum(arr)\n",
    "print('maximum: ',result)"
   ]
  },
  {
   "cell_type": "code",
   "execution_count": null,
   "id": "2400ba6f",
   "metadata": {},
   "outputs": [],
   "source": []
  }
 ],
 "metadata": {
  "kernelspec": {
   "display_name": "Python 3 (ipykernel)",
   "language": "python",
   "name": "python3"
  },
  "language_info": {
   "codemirror_mode": {
    "name": "ipython",
    "version": 3
   },
   "file_extension": ".py",
   "mimetype": "text/x-python",
   "name": "python",
   "nbconvert_exporter": "python",
   "pygments_lexer": "ipython3",
   "version": "3.9.12"
  },
  "varInspector": {
   "cols": {
    "lenName": 16,
    "lenType": 16,
    "lenVar": 40
   },
   "kernels_config": {
    "python": {
     "delete_cmd_postfix": "",
     "delete_cmd_prefix": "del ",
     "library": "var_list.py",
     "varRefreshCmd": "print(var_dic_list())"
    },
    "r": {
     "delete_cmd_postfix": ") ",
     "delete_cmd_prefix": "rm(",
     "library": "var_list.r",
     "varRefreshCmd": "cat(var_dic_list()) "
    }
   },
   "types_to_exclude": [
    "module",
    "function",
    "builtin_function_or_method",
    "instance",
    "_Feature"
   ],
   "window_display": false
  }
 },
 "nbformat": 4,
 "nbformat_minor": 5
}
