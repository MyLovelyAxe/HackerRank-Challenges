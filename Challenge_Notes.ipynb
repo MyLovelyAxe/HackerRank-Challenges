{
 "cells": [
  {
   "cell_type": "markdown",
   "id": "6af36aa2",
   "metadata": {},
   "source": [
    "#### print( )\n",
    "<font size = 2>\n",
    "In Python 2, the default print is a simple IO method that doesn't give many options to play around with.\n",
    "\n",
    "The following two examples will summarize it.\n",
    "    \n",
    "Exampl 1:\n",
    "    \n",
    "    var, var1, var2 = 1,2,3\n",
    "    print var\n",
    "    print var1, var2 \n",
    "Prints two lines and, in the second line, **var1** and **var2** are separated by a single space.\n",
    "    \n",
    "Exampl 2:\n",
    "    \n",
    "    print(*values, sep=' ', end='\\n', file=sys.stdout)\n",
    "    print(value1, value2, value3, sep=' ', end='\\n', file=sys.stdout)\n",
    "    \n",
    "Here, values is an array and *values means array is unpacked, you can add values separated by a comma too. The arguments sep, end, and file are optional, but they can prove helpful in formatting output without taking help from a string module.\n",
    "\n",
    "The argument definitions are below:\n",
    "    \n",
    "**sep** defines the delimiter between the values.\n",
    "    \n",
    "**end** defines what to print after the values.\n",
    "    \n",
    "**file** defines the output stream."
   ]
  },
  {
   "cell_type": "code",
   "execution_count": 9,
   "id": "1a43cc14",
   "metadata": {},
   "outputs": [
    {
     "name": "stdout",
     "output_type": "stream",
     "text": [
      "15\n",
      "123456789101112131415"
     ]
    }
   ],
   "source": [
    "# with end = ''\n",
    "n = int(input())\n",
    "for i in range(1,n+1):\n",
    "    print(i,end='')"
   ]
  },
  {
   "cell_type": "code",
   "execution_count": 10,
   "id": "f604d1be",
   "metadata": {},
   "outputs": [
    {
     "name": "stdout",
     "output_type": "stream",
     "text": [
      "12\n",
      "1\n",
      "2\n",
      "3\n",
      "4\n",
      "5\n",
      "6\n",
      "7\n",
      "8\n",
      "9\n",
      "10\n",
      "11\n",
      "12\n"
     ]
    }
   ],
   "source": [
    "# without end = ''\n",
    "n = int(input())\n",
    "for i in range(1,n+1):\n",
    "    print(i)"
   ]
  },
  {
   "cell_type": "markdown",
   "id": "46005d64",
   "metadata": {},
   "source": [
    "#### default function\n",
    "<font size = 2>\n",
    "In a defined function,if we can set a default value for some input, e.g. in this case:\n",
    "    \n",
    "    stram='even'\n",
    "    \n",
    "so if input **stream** is not clearly assigned when the function is called **stream** will defautly be **even**, unless **stream** is cleared assigned as **odd**."
   ]
  },
  {
   "cell_type": "code",
   "execution_count": 15,
   "id": "dc1749be",
   "metadata": {},
   "outputs": [
    {
     "name": "stdout",
     "output_type": "stream",
     "text": [
      "how many queries do you want? give a number: 2\n",
      "give a query in form of: odd/even digiteven 4\n",
      "0\n",
      "2\n",
      "4\n",
      "6\n",
      "give a query in form of: odd/even digitodd 9\n",
      "1\n",
      "3\n",
      "5\n",
      "7\n",
      "9\n",
      "11\n",
      "13\n",
      "15\n",
      "17\n"
     ]
    }
   ],
   "source": [
    "def print_from_stream(n, stream='even'):    \n",
    "    if stream == 'even':\n",
    "        EvenStream(n)\n",
    "    elif stream == 'odd':\n",
    "        OddStream(n)\n",
    "    \n",
    "def OddStream(num):\n",
    "    for i in range(num):\n",
    "        print(2*i+1)\n",
    "        \n",
    "def EvenStream(num):    \n",
    "    for i in range(num):\n",
    "        print(2*i)\n",
    "\n",
    "q = int(input('how many queries do you want? give a number: '))\n",
    "for i in range(q):\n",
    "    query = input('give a query in form of: odd/even digit')\n",
    "    mod, n = query.split()\n",
    "    n = int(n)\n",
    "    if mod == 'even':\n",
    "        print_from_stream(n)\n",
    "    elif mod == 'odd':\n",
    "        print_from_stream(n,'odd')"
   ]
  },
  {
   "cell_type": "code",
   "execution_count": null,
   "id": "66576b35",
   "metadata": {},
   "outputs": [],
   "source": []
  }
 ],
 "metadata": {
  "kernelspec": {
   "display_name": "Python 3",
   "language": "python",
   "name": "python3"
  },
  "language_info": {
   "codemirror_mode": {
    "name": "ipython",
    "version": 3
   },
   "file_extension": ".py",
   "mimetype": "text/x-python",
   "name": "python",
   "nbconvert_exporter": "python",
   "pygments_lexer": "ipython3",
   "version": "3.8.10"
  },
  "varInspector": {
   "cols": {
    "lenName": 16,
    "lenType": 16,
    "lenVar": 40
   },
   "kernels_config": {
    "python": {
     "delete_cmd_postfix": "",
     "delete_cmd_prefix": "del ",
     "library": "var_list.py",
     "varRefreshCmd": "print(var_dic_list())"
    },
    "r": {
     "delete_cmd_postfix": ") ",
     "delete_cmd_prefix": "rm(",
     "library": "var_list.r",
     "varRefreshCmd": "cat(var_dic_list()) "
    }
   },
   "types_to_exclude": [
    "module",
    "function",
    "builtin_function_or_method",
    "instance",
    "_Feature"
   ],
   "window_display": false
  }
 },
 "nbformat": 4,
 "nbformat_minor": 5
}
